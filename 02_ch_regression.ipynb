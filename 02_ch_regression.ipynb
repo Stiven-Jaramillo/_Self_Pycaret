{
 "cells": [
  {
   "cell_type": "code",
   "execution_count": 149,
   "metadata": {},
   "outputs": [],
   "source": [
    "from pycaret.datasets import get_data\n",
    "from pycaret.regression import *\n",
    "\n",
    "import pandas as pd\n",
    "import numpy as np\n",
    "import pandas as pd\n",
    "\n",
    "import seaborn as sns\n",
    "\n",
    "import matplotlib.pyplot as plt\n",
    "import matplotlib as mpl\n",
    "\n",
    "\n",
    "mpl.rcParams[\"figure.dpi\"] = 300\n",
    "mpl.rcParams[\"xtick.labelsize\"] = 6\n",
    "mpl.rcParams[\"ytick.labelsize\"] = 6\n",
    "mpl.rcParams[\"axes.labelsize\"] = 6\n",
    "mpl.rcParams[\"legend.fontsize\"] = 6\n",
    "mpl.rcParams[\"legend.title_fontsize\"] = 6\n",
    "# mpl.rcParams[\"legend.shadow\"] = True\n",
    "\n",
    "\n",
    "# for key, value in mpl.rcParams.items():\n",
    "#     print(key, \"=\", value)\n"
   ]
  },
  {
   "attachments": {},
   "cell_type": "markdown",
   "metadata": {},
   "source": [
    "> Data\n",
    "\n",
    "This is a health insurance dataset, where the features are various attributes including age, sex, Body Mass Index (BMI), whether the person is a smoker or not, number of children and US region. Furthermore, the dataset target variable is the billed charges for every individual\n"
   ]
  },
  {
   "cell_type": "code",
   "execution_count": 113,
   "metadata": {},
   "outputs": [],
   "source": [
    "data = get_data(\"insurance\")\n",
    "# data.select_dtypes(include=[\"number\"]).hist(bins=30, figsize=(6, 4))\n",
    "# plt.show()\n"
   ]
  },
  {
   "cell_type": "code",
   "execution_count": 97,
   "metadata": {},
   "outputs": [],
   "source": [
    "categorical = [\"smoker\", \"sex\", \"region\"]\n",
    "color = [\"C0\", \"C1\", \"C2\", \"C3\"]\n",
    "# fig, axes = plt.subplots(2, 2, figsize=(12, 10))\n",
    "# axes[1, 1].set_axis_off()\n",
    "# for ax, col in zip(axes.flatten(), categorical):\n",
    "#     data[col].value_counts().plot(kind=\"bar\", ax=ax, color=color)\n",
    "#     ax.set_xlabel(col)\n"
   ]
  },
  {
   "attachments": {},
   "cell_type": "markdown",
   "metadata": {},
   "source": [
    "> Regression A\n",
    "\n",
    "Relationship between numeric and categorical variables by using hue mapping. In this case, we plot the target variable histogram, colored differently for every category of the smoker, sex and region variables. Evidently, smokers get significantly higher charges compared to non-smokers. This is expected, as the health risks associated with smoking are\n",
    "numerous and well-documented.\n"
   ]
  },
  {
   "cell_type": "code",
   "execution_count": 157,
   "metadata": {},
   "outputs": [],
   "source": [
    "# fig, axes = plt.subplots(2, 2, figsize=(9, 6))\n",
    "# axes[1, 1].set_axis_off()\n",
    "# for ax, col in zip(axes.flatten(), categorical):\n",
    "#     sns.histplot(data, x=\"charges\", hue=col, multiple=\"stack\", ax=ax)\n"
   ]
  },
  {
   "attachments": {},
   "cell_type": "markdown",
   "metadata": {},
   "source": [
    "> Regression B\n",
    "\n",
    "Scatter plots are a type of visualization that helps us understand the relationship between numeric variables. The pairplot() Seaborn function creates a grid of scatter plots for all pairs of numeric variables in a given dataset. The diagonal contains distribution plots of the variables, such as histograms or KDE plots in this case. Once again, we use hue mapping to highlight the differences between smokers and nonsmokers. As we can see, age is correlated with charges, i.e. people get higher charges as they grow older. In spite of that, being a non-smoker keeps the cost lower for most people, regardless of their age. Furthermore, overweight and obese people don’t seem\n",
    "to get significantly higher charges, unless they are also smokers.\n"
   ]
  },
  {
   "cell_type": "code",
   "execution_count": 155,
   "metadata": {},
   "outputs": [],
   "source": [
    "cols = [\"age\", \"bmi\", \"charges\", \"smoker\"]\n",
    "# sns.pairplot(data[cols], hue='smoker')\n",
    "# plt.show()\n"
   ]
  }
 ],
 "metadata": {
  "kernelspec": {
   "display_name": "Python 3",
   "language": "python",
   "name": "python3"
  },
  "language_info": {
   "codemirror_mode": {
    "name": "ipython",
    "version": 3
   },
   "file_extension": ".py",
   "mimetype": "text/x-python",
   "name": "python",
   "nbconvert_exporter": "python",
   "pygments_lexer": "ipython3",
   "version": "3.10.8"
  },
  "orig_nbformat": 4
 },
 "nbformat": 4,
 "nbformat_minor": 2
}
