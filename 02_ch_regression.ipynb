{
 "cells": [
  {
   "cell_type": "code",
   "execution_count": 1,
   "metadata": {},
   "outputs": [],
   "source": [
    "from pycaret.datasets import get_data\n",
    "from pycaret.regression import *\n",
    "\n",
    "import pandas as pd\n",
    "import numpy as np\n",
    "import pandas as pd\n",
    "\n",
    "import seaborn as sns\n",
    "\n",
    "import matplotlib.pyplot as plt\n",
    "import matplotlib as mpl\n",
    "\n",
    "\n",
    "mpl.rcParams[\"figure.dpi\"] = 300\n",
    "mpl.rcParams[\"xtick.labelsize\"] = 6\n",
    "mpl.rcParams[\"ytick.labelsize\"] = 6\n",
    "mpl.rcParams[\"axes.labelsize\"] = 6\n",
    "mpl.rcParams[\"legend.fontsize\"] = 6\n",
    "mpl.rcParams[\"legend.title_fontsize\"] = 6\n",
    "# mpl.rcParams[\"legend.shadow\"] = True\n",
    "\n",
    "\n",
    "# for key, value in mpl.rcParams.items():\n",
    "#     print(key, \"=\", value)\n"
   ]
  },
  {
   "attachments": {},
   "cell_type": "markdown",
   "metadata": {},
   "source": [
    "> Data\n",
    "\n",
    "This is a health insurance dataset, where the features are various attributes including age, sex, Body Mass Index (BMI), whether the person is a smoker or not, number of children and US region. Furthermore, the dataset target variable is the billed charges for every individual\n"
   ]
  },
  {
   "cell_type": "code",
   "execution_count": 2,
   "metadata": {},
   "outputs": [],
   "source": [
    "data = get_data(\"insurance\")\n",
    "# data.select_dtypes(include=[\"number\"]).hist(bins=30, figsize=(6, 4))\n",
    "# plt.show()\n",
    "\n",
    "numeric = [\"age\", \"bmi\", \"children\", \"charges\"]\n",
    "# data[numeric].hist(bins=20, figsize = (12,8))\n",
    "# plt.show()\n"
   ]
  },
  {
   "cell_type": "code",
   "execution_count": 29,
   "metadata": {},
   "outputs": [],
   "source": [
    "categorical = [\"smoker\", \"sex\", \"region\"]\n",
    "color = [\"C0\", \"C1\", \"C2\", \"C3\"]\n",
    "# fig, axes = plt.subplots(2, 2, figsize=(12, 10))\n",
    "# axes[1, 1].set_axis_off()\n",
    "# for ax, col in zip(axes.flatten(), categorical):\n",
    "#     data[col].value_counts().plot(kind=\"bar\", ax=ax, color=color)\n",
    "#     ax.set_xlabel(col)\n"
   ]
  },
  {
   "attachments": {},
   "cell_type": "markdown",
   "metadata": {},
   "source": [
    "> Regression A\n",
    "\n",
    "Relationship between numeric and categorical variables by using hue mapping. In this case, we plot the target variable histogram, colored differently for every category of the smoker, sex and region variables. Evidently, smokers get significantly higher charges compared to non-smokers. This is expected, as the health risks associated with smoking are\n",
    "numerous and well-documented.\n"
   ]
  },
  {
   "cell_type": "code",
   "execution_count": 4,
   "metadata": {},
   "outputs": [],
   "source": [
    "# fig, axes = plt.subplots(2, 2, figsize=(9, 6))\n",
    "# axes[1, 1].set_axis_off()\n",
    "# for ax, col in zip(axes.flatten(), categorical):\n",
    "#     sns.histplot(data, x=\"charges\", hue=col, multiple=\"stack\", ax=ax)\n"
   ]
  },
  {
   "attachments": {},
   "cell_type": "markdown",
   "metadata": {},
   "source": [
    "> Regression B\n",
    "\n",
    "Scatter plots are a type of visualization that helps us understand the relationship between numeric variables. The pairplot() Seaborn function creates a grid of scatter plots for all pairs of numeric variables in a given dataset. The diagonal contains distribution plots of the variables, such as histograms or KDE plots in this case. Once again, we use hue mapping to highlight the differences between smokers and nonsmokers. As we can see, age is correlated with charges, i.e. people get higher charges as they grow older. In spite of that, being a non-smoker keeps the cost lower for most people, regardless of their age. Furthermore, overweight and obese people don’t seem\n",
    "to get significantly higher charges, unless they are also smokers.\n"
   ]
  },
  {
   "cell_type": "code",
   "execution_count": 5,
   "metadata": {},
   "outputs": [],
   "source": [
    "cols = [\"age\", \"bmi\", \"charges\", \"smoker\"]\n",
    "# sns.pairplot(data[cols], hue='smoker')\n",
    "# plt.show()\n"
   ]
  },
  {
   "attachments": {},
   "cell_type": "markdown",
   "metadata": {},
   "source": [
    "> Pycaret environment\n"
   ]
  },
  {
   "cell_type": "code",
   "execution_count": 49,
   "metadata": {},
   "outputs": [],
   "source": [
    "reg = setup(\n",
    "    data=data,\n",
    "    target=\"charges\",\n",
    "    train_size=0.8,\n",
    "    session_id=123,\n",
    "    numeric_features=numeric[:-1],\n",
    "    categorical_features=categorical,\n",
    "    transformation=True,\n",
    "    normalize=True,\n",
    "    transform_target=True,\n",
    "    # one_hot_encoding=True\n",
    ")\n"
   ]
  },
  {
   "cell_type": "code",
   "execution_count": 43,
   "metadata": {},
   "outputs": [],
   "source": [
    "# model = create_model('gbr', fold = 10)\n"
   ]
  },
  {
   "cell_type": "code",
   "execution_count": 41,
   "metadata": {},
   "outputs": [
    {
     "data": {
      "text/html": [
       "<div>\n",
       "<style scoped>\n",
       "    .dataframe tbody tr th:only-of-type {\n",
       "        vertical-align: middle;\n",
       "    }\n",
       "\n",
       "    .dataframe tbody tr th {\n",
       "        vertical-align: top;\n",
       "    }\n",
       "\n",
       "    .dataframe thead th {\n",
       "        text-align: right;\n",
       "    }\n",
       "</style>\n",
       "<table border=\"1\" class=\"dataframe\">\n",
       "  <thead>\n",
       "    <tr style=\"text-align: right;\">\n",
       "      <th></th>\n",
       "      <th>age</th>\n",
       "      <th>sex</th>\n",
       "      <th>bmi</th>\n",
       "      <th>children</th>\n",
       "      <th>smoker</th>\n",
       "      <th>region</th>\n",
       "    </tr>\n",
       "  </thead>\n",
       "  <tbody>\n",
       "    <tr>\n",
       "      <th>67</th>\n",
       "      <td>40</td>\n",
       "      <td>male</td>\n",
       "      <td>26.315001</td>\n",
       "      <td>1</td>\n",
       "      <td>no</td>\n",
       "      <td>northwest</td>\n",
       "    </tr>\n",
       "    <tr>\n",
       "      <th>736</th>\n",
       "      <td>37</td>\n",
       "      <td>female</td>\n",
       "      <td>38.389999</td>\n",
       "      <td>0</td>\n",
       "      <td>yes</td>\n",
       "      <td>southeast</td>\n",
       "    </tr>\n",
       "    <tr>\n",
       "      <th>310</th>\n",
       "      <td>50</td>\n",
       "      <td>male</td>\n",
       "      <td>26.600000</td>\n",
       "      <td>0</td>\n",
       "      <td>no</td>\n",
       "      <td>southwest</td>\n",
       "    </tr>\n",
       "    <tr>\n",
       "      <th>963</th>\n",
       "      <td>46</td>\n",
       "      <td>male</td>\n",
       "      <td>24.795000</td>\n",
       "      <td>3</td>\n",
       "      <td>no</td>\n",
       "      <td>northeast</td>\n",
       "    </tr>\n",
       "    <tr>\n",
       "      <th>680</th>\n",
       "      <td>21</td>\n",
       "      <td>female</td>\n",
       "      <td>17.400000</td>\n",
       "      <td>1</td>\n",
       "      <td>no</td>\n",
       "      <td>southwest</td>\n",
       "    </tr>\n",
       "  </tbody>\n",
       "</table>\n",
       "</div>"
      ],
      "text/plain": [
       "     age     sex        bmi  children smoker     region\n",
       "67    40    male  26.315001         1     no  northwest\n",
       "736   37  female  38.389999         0    yes  southeast\n",
       "310   50    male  26.600000         0     no  southwest\n",
       "963   46    male  24.795000         3     no  northeast\n",
       "680   21  female  17.400000         1     no  southwest"
      ]
     },
     "execution_count": 41,
     "metadata": {},
     "output_type": "execute_result"
    }
   ],
   "source": [
    "get_config(\"X\").head()\n"
   ]
  },
  {
   "cell_type": "code",
   "execution_count": 34,
   "metadata": {},
   "outputs": [],
   "source": [
    "# get_config(\"X_train\").head()\n",
    "# get_config('X_transformed')\n",
    "# get_config()\n"
   ]
  },
  {
   "cell_type": "code",
   "execution_count": null,
   "metadata": {},
   "outputs": [],
   "source": [
    "best = compare_models(sort=\"RMSE\")\n"
   ]
  }
 ],
 "metadata": {
  "kernelspec": {
   "display_name": "Python 3",
   "language": "python",
   "name": "python3"
  },
  "language_info": {
   "codemirror_mode": {
    "name": "ipython",
    "version": 3
   },
   "file_extension": ".py",
   "mimetype": "text/x-python",
   "name": "python",
   "nbconvert_exporter": "python",
   "pygments_lexer": "ipython3",
   "version": "3.9.13"
  },
  "orig_nbformat": 4
 },
 "nbformat": 4,
 "nbformat_minor": 2
}
